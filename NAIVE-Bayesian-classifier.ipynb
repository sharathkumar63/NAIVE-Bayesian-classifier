{
 "cells": [
  {
   "cell_type": "code",
   "execution_count": 2,
   "id": "d326a301",
   "metadata": {},
   "outputs": [
    {
     "name": "stdout",
     "output_type": "stream",
     "text": [
      "\n",
      " the total number of Training Data: (514, 1)\n",
      "\n",
      " the total number of Test Data: (254, 1)\n",
      "\n",
      " Confusion matrix\n",
      "[[140  24]\n",
      " [ 35  55]]\n",
      "\n",
      " Accuracy of the classifier is 0.7677165354330708\n",
      "\n",
      " The value of Precision 0.6962025316455697\n",
      "\n",
      " The value of Recall 0.6111111111111112\n",
      "\n",
      " Predicted value for Individual test Data: [1]\n"
     ]
    }
   ],
   "source": [
    "import pandas as pd\n",
    "from sklearn.model_selection import train_test_split\n",
    "from sklearn.naive_bayes import GaussianNB\n",
    "from sklearn import metrics\n",
    "\n",
    "df=pd.read_csv(\"pima_indian.csv\")\n",
    "feature_col_names = ['num_preg', 'glucose_conc', 'diastolic_bp', 'thickness', 'insulin', 'bmi', 'diab_pred','age']\n",
    "predicted_class_names = ['diabetes']\n",
    "\n",
    "x=df[feature_col_names].values\n",
    "y=df[predicted_class_names].values\n",
    "\n",
    "xtrain,xtest,ytrain,ytest=train_test_split(x,y,test_size=0.33)\n",
    "\n",
    "print('\\n the total number of Training Data:',ytrain.shape)\n",
    "print('\\n the total number of Test Data:',ytest.shape)\n",
    "\n",
    "clf=GaussianNB().fit(xtrain,ytrain.ravel())\n",
    "predicted=clf.predict(xtest)\n",
    "predictTestData=clf.predict([[6,148,72,35,0,33.6,0.627,50]])\n",
    "\n",
    "print('\\n Confusion matrix')\n",
    "print(metrics.confusion_matrix(ytest,predicted))\n",
    "\n",
    "print('\\n Accuracy of the classifier is',metrics.accuracy_score(ytest,predicted))\n",
    "print('\\n The value of Precision',metrics.precision_score(ytest,predicted))\n",
    "print('\\n The value of Recall',metrics.recall_score(ytest,predicted))\n",
    "print(\"\\n Predicted value for Individual test Data:\",predictTestData)\n"
   ]
  },
  {
   "cell_type": "code",
   "execution_count": null,
   "id": "66c67841",
   "metadata": {},
   "outputs": [],
   "source": []
  },
  {
   "cell_type": "code",
   "execution_count": null,
   "id": "df4a1e00",
   "metadata": {},
   "outputs": [],
   "source": []
  },
  {
   "cell_type": "code",
   "execution_count": null,
   "id": "bc16140f",
   "metadata": {},
   "outputs": [],
   "source": []
  },
  {
   "cell_type": "code",
   "execution_count": null,
   "id": "83fb9f5d",
   "metadata": {},
   "outputs": [],
   "source": []
  }
 ],
 "metadata": {
  "kernelspec": {
   "display_name": "Python 3 (ipykernel)",
   "language": "python",
   "name": "python3"
  },
  "language_info": {
   "codemirror_mode": {
    "name": "ipython",
    "version": 3
   },
   "file_extension": ".py",
   "mimetype": "text/x-python",
   "name": "python",
   "nbconvert_exporter": "python",
   "pygments_lexer": "ipython3",
   "version": "3.8.10"
  }
 },
 "nbformat": 4,
 "nbformat_minor": 5
}
